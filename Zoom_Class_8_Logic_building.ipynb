{
  "nbformat": 4,
  "nbformat_minor": 0,
  "metadata": {
    "colab": {
      "provenance": [],
      "authorship_tag": "ABX9TyOjxVucqUya2y49goIy2VQo",
      "include_colab_link": true
    },
    "kernelspec": {
      "name": "python3",
      "display_name": "Python 3"
    },
    "language_info": {
      "name": "python"
    }
  },
  "cells": [
    {
      "cell_type": "markdown",
      "metadata": {
        "id": "view-in-github",
        "colab_type": "text"
      },
      "source": [
        "<a href=\"https://colab.research.google.com/github/hasnainraza321/zoom_classes_python-/blob/main/Zoom_Class_8_Logic_building.ipynb\" target=\"_parent\"><img src=\"https://colab.research.google.com/assets/colab-badge.svg\" alt=\"Open In Colab\"/></a>"
      ]
    },
    {
      "cell_type": "markdown",
      "source": [
        "# **how old Are they**"
      ],
      "metadata": {
        "id": "uCmLPDYGc2OQ"
      }
    },
    {
      "cell_type": "code",
      "execution_count": 3,
      "metadata": {
        "id": "MnGwaibh0ZuO",
        "colab": {
          "base_uri": "https://localhost:8080/"
        },
        "outputId": "e510ab5e-6c78-4220-8342-0880187a6f50"
      },
      "outputs": [
        {
          "output_type": "stream",
          "name": "stdout",
          "text": [
            "Ali is 21 years old\n",
            "Bilal is 27 years old\n",
            "Chand is 47 years old\n",
            "Danish is 68 years old\n",
            "Eshan is 47 years old\n"
          ]
        }
      ],
      "source": [
        "def main():\n",
        "    ali = 21\n",
        "    bilal = ali + 6\n",
        "    chand = bilal + 20\n",
        "    danish = chand + ali\n",
        "    eshan = chand\n",
        "\n",
        "    print(f\"Ali is {ali} years old\")\n",
        "    print(f\"Bilal is {bilal} years old\")\n",
        "    print(f\"Chand is {chand} years old\")\n",
        "    print(f\"Danish is {danish} years old\")\n",
        "    print(f\"Eshan is {eshan} years old\")\n",
        "\n",
        "\n",
        "main()\n"
      ]
    }
  ]
}