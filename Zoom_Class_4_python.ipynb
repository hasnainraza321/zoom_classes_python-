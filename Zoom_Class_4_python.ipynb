{
  "nbformat": 4,
  "nbformat_minor": 0,
  "metadata": {
    "colab": {
      "provenance": [],
      "authorship_tag": "ABX9TyPbfv1VgTMr1VAb4uvyPxhr",
      "include_colab_link": true
    },
    "kernelspec": {
      "name": "python3",
      "display_name": "Python 3"
    },
    "language_info": {
      "name": "python"
    }
  },
  "cells": [
    {
      "cell_type": "markdown",
      "metadata": {
        "id": "view-in-github",
        "colab_type": "text"
      },
      "source": [
        "<a href=\"https://colab.research.google.com/github/hasnainraza321/zoom_classes_python-/blob/main/Zoom_Class_4_python.ipynb\" target=\"_parent\"><img src=\"https://colab.research.google.com/assets/colab-badge.svg\" alt=\"Open In Colab\"/></a>"
      ]
    },
    {
      "cell_type": "markdown",
      "source": [
        "# **Built in modules**"
      ],
      "metadata": {
        "id": "hkaR7gGoz-cB"
      }
    },
    {
      "cell_type": "code",
      "execution_count": null,
      "metadata": {
        "colab": {
          "base_uri": "https://localhost:8080/"
        },
        "id": "qPWynS-Vz359",
        "outputId": "d675c38b-4c20-4ba6-9628-fbb11774518f"
      },
      "outputs": [
        {
          "output_type": "stream",
          "name": "stdout",
          "text": [
            "3\n"
          ]
        }
      ],
      "source": [
        "import random\n",
        "\n",
        "num = random.randint(1,6)\n",
        "print(num)"
      ]
    },
    {
      "cell_type": "code",
      "source": [
        "import time\n",
        "print(\"hello word\")\n",
        "time.sleep(5)\n",
        "print(\"hello Hasnian\")"
      ],
      "metadata": {
        "colab": {
          "base_uri": "https://localhost:8080/"
        },
        "id": "8RCYnEnQ1Cdw",
        "outputId": "7b4caf08-c162-4860-acb9-03fa8ebf6949"
      },
      "execution_count": null,
      "outputs": [
        {
          "output_type": "stream",
          "name": "stdout",
          "text": [
            "hello word\n",
            "hello Hasnian\n"
          ]
        }
      ]
    },
    {
      "cell_type": "markdown",
      "source": [
        "# **moduel kud sy banaye or impart kiya **"
      ],
      "metadata": {
        "id": "IfbL4zarz87C"
      }
    },
    {
      "cell_type": "code",
      "source": [
        "import mymodules\n",
        "print(mymodules.)"
      ],
      "metadata": {
        "colab": {
          "base_uri": "https://localhost:8080/"
        },
        "id": "g6lDLa-44StN",
        "outputId": "a373fb98-5a28-4cea-e418-1e28a210ed3d"
      },
      "execution_count": null,
      "outputs": [
        {
          "output_type": "stream",
          "name": "stdout",
          "text": [
            "10\n"
          ]
        }
      ]
    },
    {
      "cell_type": "code",
      "source": [
        "import my\n",
        "name  = input(\"enter your name\")\n",
        "res = my.greet(\"name\")\n",
        "print(res)"
      ],
      "metadata": {
        "colab": {
          "base_uri": "https://localhost:8080/"
        },
        "id": "yPp2dmtg42bz",
        "outputId": "8b790a8e-5883-45c0-b2b3-67d867ef922b"
      },
      "execution_count": null,
      "outputs": [
        {
          "output_type": "stream",
          "name": "stdout",
          "text": [
            "enter your namehasnain\n",
            "hello,name!\n"
          ]
        }
      ]
    },
    {
      "cell_type": "markdown",
      "source": [
        "# **idr hum na ik moduel instal kiya.**"
      ],
      "metadata": {
        "id": "r__Z20-bW9Fi"
      }
    },
    {
      "cell_type": "code",
      "source": [
        "!pip install gtts"
      ],
      "metadata": {
        "colab": {
          "base_uri": "https://localhost:8080/"
        },
        "id": "olSisSJyQdF5",
        "outputId": "ab3cb9f2-89bc-4678-fa9c-8171ee21f5b9"
      },
      "execution_count": null,
      "outputs": [
        {
          "output_type": "stream",
          "name": "stdout",
          "text": [
            "Collecting gtts\n",
            "  Downloading gTTS-2.5.4-py3-none-any.whl.metadata (4.1 kB)\n",
            "Requirement already satisfied: requests<3,>=2.27 in /usr/local/lib/python3.11/dist-packages (from gtts) (2.32.3)\n",
            "Requirement already satisfied: click<8.2,>=7.1 in /usr/local/lib/python3.11/dist-packages (from gtts) (8.1.8)\n",
            "Requirement already satisfied: charset-normalizer<4,>=2 in /usr/local/lib/python3.11/dist-packages (from requests<3,>=2.27->gtts) (3.4.1)\n",
            "Requirement already satisfied: idna<4,>=2.5 in /usr/local/lib/python3.11/dist-packages (from requests<3,>=2.27->gtts) (3.10)\n",
            "Requirement already satisfied: urllib3<3,>=1.21.1 in /usr/local/lib/python3.11/dist-packages (from requests<3,>=2.27->gtts) (2.3.0)\n",
            "Requirement already satisfied: certifi>=2017.4.17 in /usr/local/lib/python3.11/dist-packages (from requests<3,>=2.27->gtts) (2025.1.31)\n",
            "Downloading gTTS-2.5.4-py3-none-any.whl (29 kB)\n",
            "Installing collected packages: gtts\n",
            "Successfully installed gtts-2.5.4\n"
          ]
        }
      ]
    },
    {
      "cell_type": "markdown",
      "source": [
        "# **Text to voice converter**"
      ],
      "metadata": {
        "id": "dZVrK-GSXNUD"
      }
    },
    {
      "cell_type": "code",
      "source": [
        "from gtts import gTTS\n",
        "from IPython.display import Audio\n",
        "msg = input(\"Enter your message\")\n",
        "tts = gTTS(msg,lang=\"en\")\n",
        "tts.save(\"msg.mp3\")\n",
        "Audio(\"msg.mp3\",autoplay=True)"
      ],
      "metadata": {
        "colab": {
          "base_uri": "https://localhost:8080/",
          "height": 93
        },
        "id": "HYOMnc11REZs",
        "outputId": "18002eb4-449b-4b76-e355-0e90bda11f8b"
      },
      "execution_count": null,
      "outputs": [
        {
          "name": "stdout",
          "output_type": "stream",
          "text": [
            "Enter your messageheloo hasnain\n"
          ]
        },
        {
          "output_type": "execute_result",
          "data": {
            "text/plain": [
              "<IPython.lib.display.Audio object>"
            ],
            "text/html": [
              "\n",
              "                <audio  controls=\"controls\" autoplay=\"autoplay\">\n",
              "                    <source src=\"data:audio/mpeg;base64,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\" type=\"audio/mpeg\" />\n",
              "                    Your browser does not support the audio element.\n",
              "                </audio>\n",
              "              "
            ]
          },
          "metadata": {},
          "execution_count": 8
        }
      ]
    },
    {
      "cell_type": "markdown",
      "source": [
        "# **Assigment if else ka use krta vai.**"
      ],
      "metadata": {
        "id": "NiSvoA3XXZMx"
      }
    },
    {
      "cell_type": "code",
      "source": [
        "from gtts import gTTS\n",
        "from IPython.display import Audio\n",
        "\n",
        "# User se umar puchna\n",
        "age = int(input(\"Apki umar kya hai? \"))\n",
        "\n",
        "# Condition check karna\n",
        "if age >= 18:\n",
        "    msg = \"Aap nice ban sakte hain!\"\n",
        "else:\n",
        "    msg = \"Aap nice nahi ban sakte.\"\n",
        "\n",
        "# Text-to-Speech conversion\n",
        "tts = gTTS(msg, lang=\"en\")\n",
        "tts.save(\"msg.mp3\")\n",
        "\n",
        "# Play audio\n",
        "Audio(\"msg.mp3\", autoplay=True)\n"
      ],
      "metadata": {
        "colab": {
          "base_uri": "https://localhost:8080/",
          "height": 93
        },
        "id": "2o6JSNeDXmwB",
        "outputId": "0ad19461-9ce0-4137-df74-766597e652ba"
      },
      "execution_count": null,
      "outputs": [
        {
          "name": "stdout",
          "output_type": "stream",
          "text": [
            "Apki umar kya hai? 18\n"
          ]
        },
        {
          "output_type": "execute_result",
          "data": {
            "text/plain": [
              "<IPython.lib.display.Audio object>"
            ],
            "text/html": [
              "\n",
              "                <audio  controls=\"controls\" autoplay=\"autoplay\">\n",
              "                    <source src=\"data:audio/mpeg;base64,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\" type=\"audio/mpeg\" />\n",
              "                    Your browser does not support the audio element.\n",
              "                </audio>\n",
              "              "
            ]
          },
          "metadata": {},
          "execution_count": 12
        }
      ]
    }
  ]
}