{
  "nbformat": 4,
  "nbformat_minor": 0,
  "metadata": {
    "colab": {
      "provenance": [],
      "authorship_tag": "ABX9TyOixf/tTu3NJAmUGNNUMzAp",
      "include_colab_link": true
    },
    "kernelspec": {
      "name": "python3",
      "display_name": "Python 3"
    },
    "language_info": {
      "name": "python"
    }
  },
  "cells": [
    {
      "cell_type": "markdown",
      "metadata": {
        "id": "view-in-github",
        "colab_type": "text"
      },
      "source": [
        "<a href=\"https://colab.research.google.com/github/hasnainraza321/zoom_classes_python-/blob/main/class_7_zoom_classes_Logic_Building.ipynb\" target=\"_parent\"><img src=\"https://colab.research.google.com/assets/colab-badge.svg\" alt=\"Open In Colab\"/></a>"
      ]
    },
    {
      "cell_type": "markdown",
      "source": [
        "# **Ik program likho jo ik sy 10 tak numbers print kare.**"
      ],
      "metadata": {
        "id": "5rIiwM6slFyn"
      }
    },
    {
      "cell_type": "code",
      "execution_count": null,
      "metadata": {
        "id": "QZnqZXJAW7cx",
        "colab": {
          "base_uri": "https://localhost:8080/"
        },
        "outputId": "a1ab9930-3f07-4627-ac8b-1e40517bab46"
      },
      "outputs": [
        {
          "output_type": "stream",
          "name": "stdout",
          "text": [
            "1\n",
            "2\n",
            "3\n",
            "4\n",
            "5\n",
            "6\n",
            "7\n",
            "8\n",
            "9\n",
            "10\n"
          ]
        }
      ],
      "source": [
        "for i in range(1,11):\n",
        "  print(i)"
      ]
    },
    {
      "cell_type": "markdown",
      "source": [
        "# **#2. Aik program likho jo user se aik number ly or uska Square print kare.**"
      ],
      "metadata": {
        "id": "MsFjCHbGmKf_"
      }
    },
    {
      "cell_type": "code",
      "source": [
        "user_input = int(input(\"enter your number:\"))\n",
        "square = user_input * user_input\n",
        "print(square)\n"
      ],
      "metadata": {
        "colab": {
          "base_uri": "https://localhost:8080/"
        },
        "id": "Nvdaj_i9md3u",
        "outputId": "4a50b78a-b906-4105-a110-69d98421f766"
      },
      "execution_count": null,
      "outputs": [
        {
          "output_type": "stream",
          "name": "stdout",
          "text": [
            "enter your number:5\n",
            "25\n"
          ]
        }
      ]
    },
    {
      "cell_type": "markdown",
      "source": [
        "# **#3 Aik program likho jo do number ko add kry or result print kare.**"
      ],
      "metadata": {
        "id": "hHMO0n3TqYZf"
      }
    },
    {
      "cell_type": "code",
      "source": [
        "def sum(num1,num2):\n",
        "    return num1+num2\n",
        "user_num = int(input(\"Enter 1st number:\"))\n",
        "user_num2 = int(input(\"Enter 2nd number:\"))\n",
        "sum(user_num,user_num2)"
      ],
      "metadata": {
        "id": "F1NH9pmUqlhd",
        "outputId": "54dbbab1-87d4-4dc4-ebd7-d62a92dadb0d",
        "colab": {
          "base_uri": "https://localhost:8080/"
        }
      },
      "execution_count": null,
      "outputs": [
        {
          "name": "stdout",
          "output_type": "stream",
          "text": [
            "Enter 1st number:5\n",
            "Enter 2nd number:5\n"
          ]
        },
        {
          "output_type": "execute_result",
          "data": {
            "text/plain": [
              "10"
            ]
          },
          "metadata": {},
          "execution_count": 4
        }
      ]
    },
    {
      "cell_type": "markdown",
      "source": [
        "# **#4. Aik Program Likho Jo User se naam ley aur \"hello, [naam]!\" print kare.**"
      ],
      "metadata": {
        "id": "j6VvwHZ548L4"
      }
    },
    {
      "cell_type": "code",
      "source": [
        "  user_name = input(\"enter your name:\")\n",
        "# print(f\"Hello {user_name}\")\n",
        "\n",
        "def greet(name):\n",
        "  return f\"Hello,  {[name]}\"\n",
        "\n",
        "res = greet(user_name)\n",
        "print(res)"
      ],
      "metadata": {
        "colab": {
          "base_uri": "https://localhost:8080/"
        },
        "id": "gfVUDlfp5QG-",
        "outputId": "f03767e6-259b-42a5-da40-1ce34566a22e"
      },
      "execution_count": null,
      "outputs": [
        {
          "output_type": "stream",
          "name": "stdout",
          "text": [
            "enter your name:hasnain\n",
            "Hello,  ['hasnain']\n"
          ]
        }
      ]
    },
    {
      "cell_type": "markdown",
      "source": [
        "# **#5. Aik program Likho jo ek List mai majood tamam numbers ka sum nikalay.**"
      ],
      "metadata": {
        "id": "Y3jLlUMI8tjT"
      }
    },
    {
      "cell_type": "code",
      "source": [
        "numbers = [1,2,3,4,5,6,7]\n",
        "res = sum(numbers)\n",
        "print(res)\n",
        "def sum(lst):\n",
        "  total = 0\n",
        "  for i in lst:\n",
        "    total += i\n",
        "  return total\n",
        "\n",
        "\n",
        "response = sum(numbers)\n",
        "print(response)\n"
      ],
      "metadata": {
        "id": "ophCCbHB88dB",
        "colab": {
          "base_uri": "https://localhost:8080/"
        },
        "outputId": "b42e12e1-8b9f-4314-a841-e4b73d0f07b7"
      },
      "execution_count": null,
      "outputs": [
        {
          "output_type": "stream",
          "name": "stdout",
          "text": [
            "28\n"
          ]
        }
      ]
    },
    {
      "cell_type": "markdown",
      "source": [
        "#6 Aik program likho jo user se ek string ley aur usko reverse kare."
      ],
      "metadata": {
        "id": "3d0NiZfF_A10"
      }
    },
    {
      "cell_type": "code",
      "source": [
        "def reverse():\n",
        "    user_string = input(\"Enter your message: \")\n",
        "    reversed_string = user_string[::-1]\n",
        "    print(reversed_string)\n",
        "\n",
        "reverse()"
      ],
      "metadata": {
        "colab": {
          "base_uri": "https://localhost:8080/"
        },
        "id": "5K1-4exN_NKr",
        "outputId": "2ccdff8f-01c0-4cb6-9ef8-9672633a5918"
      },
      "execution_count": 1,
      "outputs": [
        {
          "output_type": "stream",
          "name": "stdout",
          "text": [
            "Enter your message: 12345678\n",
            "87654321\n"
          ]
        }
      ]
    },
    {
      "cell_type": "markdown",
      "source": [
        "## **Q7, Aik Program likho jo ek list mai mojood sabse bara number dhoonday.**"
      ],
      "metadata": {
        "id": "xyd5q3PRrRuM"
      }
    },
    {
      "cell_type": "code",
      "source": [
        "numbers = [1,2,3,4,5,6,7,8]\n",
        "\n",
        "def find_max(Lst):\n",
        "    max_num = Lst[0]\n",
        "    for num in Lst:\n",
        "        if num > max_num:\n",
        "            max_num = num\n",
        "    print(max_num)\n",
        "\n",
        "find_max(numbers)\n"
      ],
      "metadata": {
        "colab": {
          "base_uri": "https://localhost:8080/"
        },
        "id": "nL2i9MJOrl5R",
        "outputId": "5fb1cbba-0fe5-4a28-f0ff-1a2062ea3f93"
      },
      "execution_count": 12,
      "outputs": [
        {
          "output_type": "stream",
          "name": "stdout",
          "text": [
            "8\n"
          ]
        }
      ]
    }
  ]
}