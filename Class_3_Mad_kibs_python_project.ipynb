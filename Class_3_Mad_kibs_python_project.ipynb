{
  "nbformat": 4,
  "nbformat_minor": 0,
  "metadata": {
    "colab": {
      "provenance": [],
      "authorship_tag": "ABX9TyPn6DjsQvkyaBo+4sw2qYre",
      "include_colab_link": true
    },
    "kernelspec": {
      "name": "python3",
      "display_name": "Python 3"
    },
    "language_info": {
      "name": "python"
    }
  },
  "cells": [
    {
      "cell_type": "markdown",
      "metadata": {
        "id": "view-in-github",
        "colab_type": "text"
      },
      "source": [
        "<a href=\"https://colab.research.google.com/github/hasnainraza321/zoom_classes_python-/blob/main/Class_3_Mad_kibs_python_project.ipynb\" target=\"_parent\"><img src=\"https://colab.research.google.com/assets/colab-badge.svg\" alt=\"Open In Colab\"/></a>"
      ]
    },
    {
      "cell_type": "code",
      "execution_count": 1,
      "metadata": {
        "colab": {
          "base_uri": "https://localhost:8080/"
        },
        "id": "foEvPcrlmDmX",
        "outputId": "5ee06387-e78f-4d0f-ef54-42acd2ee6253"
      },
      "outputs": [
        {
          "output_type": "stream",
          "name": "stdout",
          "text": [
            "Enter your Name hasnain\n",
            "city Name karchi\n",
            "Enter your Varb darphok\n",
            "plz Enter a animal Name tiger\n",
            "Enter a adjective chupa \n",
            "Ek din, hasnain karchi gaya. Wahan usne ek chupa  tiger dekha jo darphok raha tha. ye dek kr, hasnain bohot hiran hua!\n"
          ]
        }
      ],
      "source": [
        "def Madlib():\n",
        "   name = str(input(\"Enter your Name \"))\n",
        "   city = str(input(\"city Name \"))\n",
        "   Varb = str(input(\"Enter your Varb \"))\n",
        "   animal = str(input(\"plz Enter a animal Name \"))\n",
        "   adjective =str(input(\"Enter a adjective \"))\n",
        "\n",
        "   story = f\"Ek din, {name} {city} gaya. Wahan usne ek {adjective} {animal} dekha jo {Varb} raha tha. ye dek kr, {name} bohot hiran hua!\"\n",
        "   print(story)\n",
        "Madlib()"
      ]
    },
    {
      "cell_type": "markdown",
      "source": [
        "# **Simple Calculator **"
      ],
      "metadata": {
        "id": "jvDnH4o7uLgB"
      }
    },
    {
      "cell_type": "code",
      "source": [
        "from ast import Num\n",
        "def Calculator(first_num, second_num,opration):\n",
        "    if opration ==\"+\":\n",
        "     print(first_num + second_num)\n",
        "    elif opration ==\"-\":\n",
        "     print(first_num - second_num)\n",
        "    elif opration ==\"/\":\n",
        "      print(first_num // second_num)\n",
        "    elif opration ==\"*\":\n",
        "      print(first_num * second_num)\n",
        "\n",
        "\n",
        "first = int(input(\"Enter a Number\"))\n",
        "second = int(input(\"Enter a second Number\"))\n",
        "operater = (input(\"Enter a operater\"))\n",
        "Calculator(first,second,operater)\n"
      ],
      "metadata": {
        "colab": {
          "base_uri": "https://localhost:8080/"
        },
        "id": "S7DFgtlouXsH",
        "outputId": "95231433-fc08-4085-e0d3-971ee06e0db0"
      },
      "execution_count": 17,
      "outputs": [
        {
          "output_type": "stream",
          "name": "stdout",
          "text": [
            "Enter a Number10\n",
            "Enter a second Number10\n",
            "Enter a operater*\n",
            "100\n"
          ]
        }
      ]
    }
  ]
}