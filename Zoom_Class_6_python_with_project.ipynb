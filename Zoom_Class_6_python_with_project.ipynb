{
  "cells": [
    {
      "cell_type": "markdown",
      "metadata": {
        "id": "view-in-github",
        "colab_type": "text"
      },
      "source": [
        "<a href=\"https://colab.research.google.com/github/hasnainraza321/zoom_classes_python-/blob/main/Zoom_Class_6_python_with_project.ipynb\" target=\"_parent\"><img src=\"https://colab.research.google.com/assets/colab-badge.svg\" alt=\"Open In Colab\"/></a>"
      ]
    },
    {
      "cell_type": "markdown",
      "metadata": {
        "id": "v-F1Yo93kBbB"
      },
      "source": [
        "# **Guess the Number Game (user)**"
      ]
    },
    {
      "cell_type": "code",
      "execution_count": 6,
      "metadata": {
        "colab": {
          "base_uri": "https://localhost:8080/"
        },
        "id": "W5QNQi-Shies",
        "outputId": "663fe420-3f0c-4850-9530-1e52272ff65e"
      },
      "outputs": [
        {
          "output_type": "stream",
          "name": "stdout",
          "text": [
            "Computer na ik secret number socha hai!🧠 ab usay guess karlo\n",
            "Apna andaza lagooo (1-10): 7\n",
            "Chota socho! 🔽\n",
            "Apna andaza lagooo (1-10): 6\n",
            "Bingo! 🎉 Tumna sahi guess kr liya!\n"
          ]
        }
      ],
      "source": [
        "import random\n",
        "\n",
        "print(\"Computer na ik secret number socha hai!🧠 ab usay guess karlo\")\n",
        "secret_number = random.randint(1, 10)\n",
        "try:\n",
        " while True:\n",
        "    user_input = int(input(\"Apna andaza lagooo (1-10): \"))\n",
        "\n",
        "    if user_input == secret_number:\n",
        "        print(\"Bingo! 🎉 Tumna sahi guess kr liya!\")\n",
        "        break\n",
        "    elif user_input < secret_number:\n",
        "        print(\"Bara socho! 🔼\")\n",
        "    else:\n",
        "        print(\"Chota socho! 🔽\")\n",
        "except ValueError:\n",
        "    print(\"Invalid input. Please enter a valid number.\")\n"
      ]
    },
    {
      "cell_type": "markdown",
      "source": [
        "# **Error Heandling**"
      ],
      "metadata": {
        "id": "BZH5bP9GwyAL"
      }
    },
    {
      "cell_type": "code",
      "source": [
        "try:\n",
        "  b = int(input(\"Enter a number: \"))\n",
        "  a = 10 / 9\n",
        "  print(a)\n",
        "except ZeroDivisionError:\n",
        "  print(\"zerodivisionerror\")\n",
        "except ValueError:\n",
        "  print(\"invalid input\")\n",
        "else:\n",
        "  print(\"else\", a);\n",
        "finally:\n",
        "  print(\"program end ..\")"
      ],
      "metadata": {
        "colab": {
          "base_uri": "https://localhost:8080/"
        },
        "id": "ioL9eg2QwwC9",
        "outputId": "0d210d41-ae1e-4b5a-f84e-3bae31ab3453"
      },
      "execution_count": 24,
      "outputs": [
        {
          "output_type": "stream",
          "name": "stdout",
          "text": [
            "Enter a number: 7\n",
            "1.1111111111111112\n",
            "else 1.1111111111111112\n",
            "program end ..\n"
          ]
        }
      ]
    },
    {
      "cell_type": "code",
      "source": [
        "from ast import Index\n",
        "number = [88,99,77,66,77,33]\n",
        "\n",
        "def find_max(arry):\n",
        "    max = number[0];\n",
        "    for i in arry:\n",
        "      if i > max:\n",
        "        max = i\n",
        "        index = number.index(max)\n",
        "        print(index)\n",
        "        print(max)\n",
        "find_max(number)"
      ],
      "metadata": {
        "colab": {
          "base_uri": "https://localhost:8080/"
        },
        "id": "TLBYU-0S0qBV",
        "outputId": "f5650269-e5d7-4fe8-e0a2-31465286b957"
      },
      "execution_count": 39,
      "outputs": [
        {
          "output_type": "stream",
          "name": "stdout",
          "text": [
            "1\n",
            "99\n"
          ]
        }
      ]
    }
  ],
  "metadata": {
    "colab": {
      "provenance": [],
      "authorship_tag": "ABX9TyPQbQrqrro64hy5Fg9598oD",
      "include_colab_link": true
    },
    "kernelspec": {
      "display_name": "Python 3",
      "name": "python3"
    },
    "language_info": {
      "name": "python"
    }
  },
  "nbformat": 4,
  "nbformat_minor": 0
}