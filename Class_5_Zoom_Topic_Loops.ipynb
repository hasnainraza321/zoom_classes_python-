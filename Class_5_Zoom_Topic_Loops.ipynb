{
  "nbformat": 4,
  "nbformat_minor": 0,
  "metadata": {
    "colab": {
      "provenance": [],
      "authorship_tag": "ABX9TyNvh4FKhFHv76uDHQjR3ZBp",
      "include_colab_link": true
    },
    "kernelspec": {
      "name": "python3",
      "display_name": "Python 3"
    },
    "language_info": {
      "name": "python"
    }
  },
  "cells": [
    {
      "cell_type": "markdown",
      "metadata": {
        "id": "view-in-github",
        "colab_type": "text"
      },
      "source": [
        "<a href=\"https://colab.research.google.com/github/hasnainraza321/zoom_classes_python-/blob/main/Class_5_Zoom_Topic_Loops.ipynb\" target=\"_parent\"><img src=\"https://colab.research.google.com/assets/colab-badge.svg\" alt=\"Open In Colab\"/></a>"
      ]
    },
    {
      "cell_type": "markdown",
      "source": [
        "# **Loops For Loops**"
      ],
      "metadata": {
        "id": "0qo9jgZJs4sw"
      }
    },
    {
      "cell_type": "code",
      "execution_count": null,
      "metadata": {
        "colab": {
          "base_uri": "https://localhost:8080/"
        },
        "id": "6kYEFiRAnhWG",
        "outputId": "1da9ced9-e6b6-4afa-b509-2cf09d7744a1"
      },
      "outputs": [
        {
          "output_type": "stream",
          "name": "stdout",
          "text": [
            "\n",
            "\n",
            "\n",
            "\n",
            "\n",
            "\n",
            "\n",
            "\n",
            "\n"
          ]
        }
      ],
      "source": [
        "numbers = [1,2,3,4,5,6,7,8,9]\n",
        "for i in numbers:\n",
        "    print()\n"
      ]
    },
    {
      "cell_type": "code",
      "source": [
        "import time\n",
        "for i in range(10,0,-1):\n",
        "  time.sleep(1)\n",
        "  print(i)"
      ],
      "metadata": {
        "colab": {
          "base_uri": "https://localhost:8080/"
        },
        "id": "G3CVpEg5uWI1",
        "outputId": "44255985-b5bc-42ec-a21e-35824f37c267"
      },
      "execution_count": null,
      "outputs": [
        {
          "output_type": "stream",
          "name": "stdout",
          "text": [
            "10\n",
            "9\n",
            "8\n",
            "7\n",
            "6\n",
            "5\n",
            "4\n",
            "3\n",
            "2\n",
            "1\n"
          ]
        }
      ]
    },
    {
      "cell_type": "markdown",
      "source": [
        "# **Guess the Number Game Python Project (computer)**"
      ],
      "metadata": {
        "id": "aoUNBouzvj_k"
      }
    },
    {
      "cell_type": "code",
      "source": [
        "import random\n",
        "print(\"Socho rk secret number 1 se 100 ka beech!🤔\")\n",
        "user_input = int(input(\"Apna secret number batao: \"))\n",
        "\n",
        "computer_num = random.randint(1,10)\n",
        "print(f\"coumputer ka pehla guess hai: {computer_num}\")\n",
        "\n",
        "\n",
        "\n",
        "while True:\n",
        " feedback = input(\"kya ya guess hai? (bara/chota/sahi):\")\n",
        " if feedback == \"sahi\":\n",
        "  print(\"yah! 🎉 computer na sahi guess krliya!\")\n",
        "  break\n",
        " elif feedback == \"chota\":\n",
        "  print(\"Too low ..\")\n",
        " elif feedback == \"bara\":\n",
        "  print(\"Too High...\")\n",
        " else:\n",
        "    print(\"Galat input! Sirf 'bara', 'chota', ya 'sahi' likho.\")\n",
        "    continue\n",
        "\n",
        " computer_num = random.randint(1,10)\n",
        " print(f\"coumputer ka naya guess hai: {computer_num}\")\n",
        "\n",
        "\n"
      ],
      "metadata": {
        "colab": {
          "base_uri": "https://localhost:8080/"
        },
        "id": "9UD-vse4vij1",
        "outputId": "50a8cafd-2745-4b6c-e5c5-d710873f2d47"
      },
      "execution_count": 9,
      "outputs": [
        {
          "output_type": "stream",
          "name": "stdout",
          "text": [
            "Socho rk secret number 1 se 100 ka beech!🤔\n",
            "Apna secret number batao: 5\n",
            "coumputer ka pehla guess hai: 10\n",
            "kya ya guess hai? (bara/chota/sahi):bara\n",
            "Too High...\n",
            "coumputer ka naya guess hai: 10\n",
            "kya ya guess hai? (bara/chota/sahi):bara\n",
            "Too High...\n",
            "coumputer ka naya guess hai: 2\n",
            "kya ya guess hai? (bara/chota/sahi):bara\n",
            "Too High...\n",
            "coumputer ka naya guess hai: 8\n",
            "kya ya guess hai? (bara/chota/sahi):bara\n",
            "Too High...\n",
            "coumputer ka naya guess hai: 2\n",
            "kya ya guess hai? (bara/chota/sahi):bara\n",
            "Too High...\n",
            "coumputer ka naya guess hai: 9\n",
            "kya ya guess hai? (bara/chota/sahi):bara\n",
            "Too High...\n",
            "coumputer ka naya guess hai: 5\n",
            "kya ya guess hai? (bara/chota/sahi):sahi\n",
            "yah! 🎉 computer na sahi guess krliya!\n"
          ]
        }
      ]
    },
    {
      "cell_type": "markdown",
      "source": [
        "# **While Loop Example**"
      ],
      "metadata": {
        "id": "4XQ7aJFS_BEK"
      }
    },
    {
      "cell_type": "code",
      "source": [
        "answer = \"\"  # Shuru me answer blank hai\n",
        "\n",
        "while answer.lower() != \"yes\":  # Jab tak user 'yes' nahi likhta, loop chalta rahega\n",
        "    answer = input(\"Kya tumhe Python pasand hai? (yes/no): \")\n",
        "\n",
        "print(\"Great! Tumhe Python pasand hai! 🎉\")\n",
        "\n"
      ],
      "metadata": {
        "colab": {
          "base_uri": "https://localhost:8080/"
        },
        "id": "_StoIqyp81Sl",
        "outputId": "04e3022d-5fa3-43b9-f153-b31794c699c1"
      },
      "execution_count": 14,
      "outputs": [
        {
          "output_type": "stream",
          "name": "stdout",
          "text": [
            "Kya tumhe Python pasand hai? (yes/no): yes\n",
            "Great! Tumhe Python pasand hai! 🎉\n"
          ]
        }
      ]
    }
  ]
}